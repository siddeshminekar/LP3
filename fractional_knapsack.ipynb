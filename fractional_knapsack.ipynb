{
 "cells": [
  {
   "cell_type": "code",
   "execution_count": 1,
   "id": "80a4b05b",
   "metadata": {},
   "outputs": [
    {
     "name": "stdout",
     "output_type": "stream",
     "text": [
      "\n",
      "value and weights:\n",
      "60   10\n",
      "100   20\n",
      "120   30\n",
      "The Knapsac capacity is: 50\n",
      "The maximum profit is: 240.0\n"
     ]
    }
   ],
   "source": [
    "#Fractional Knapsac using greedy method\n",
    "\n",
    "class Item:\n",
    "    def __init__(self,value,weight):\n",
    "        self.value=value\n",
    "        self.weight=weight\n",
    "        \n",
    "def fractionalknapsack(Capasity,arr):\n",
    "    \n",
    "    arr.sort(key=lambda x:(x.value/x.weight),reverse= True)\n",
    "    \n",
    "    finalvalue=0.0\n",
    "    \n",
    "    for item in arr:\n",
    "        \n",
    "        if item.weight <Capasity:\n",
    "            Capasity -= item.weight\n",
    "            finalvalue += item.value\n",
    "            \n",
    "        else:\n",
    "            finalvalue += item.value*(Capasity/item.weight)\n",
    "            \n",
    "            break\n",
    "            \n",
    "    return finalvalue\n",
    " \n",
    "#Driver code\n",
    "\n",
    "if __name__==\"__main__\":\n",
    "    \n",
    "    capacity=50 # Capasity of Knapsack, the maximum items can be put in bag\n",
    "    arr=[Item(60,10),Item(100,20),Item(120,30)]\n",
    "    \n",
    "    print(\"\\nvalue and weights:\")\n",
    "    for i in range(len(arr)):\n",
    "        print(arr[i].value,\" \",arr[i].weight)\n",
    "    print(\"The Knapsac capacity is:\",capacity)\n",
    "    \n",
    "    max_value=fractionalknapsack(capacity,arr)\n",
    "    print(\"The maximum profit is:\",max_value)"
   ]
  },
  {
   "cell_type": "code",
   "execution_count": null,
   "id": "71ca3b90",
   "metadata": {},
   "outputs": [],
   "source": []
  }
 ],
 "metadata": {
  "kernelspec": {
   "display_name": "Python 3 (ipykernel)",
   "language": "python",
   "name": "python3"
  },
  "language_info": {
   "codemirror_mode": {
    "name": "ipython",
    "version": 3
   },
   "file_extension": ".py",
   "mimetype": "text/x-python",
   "name": "python",
   "nbconvert_exporter": "python",
   "pygments_lexer": "ipython3",
   "version": "3.9.13"
  }
 },
 "nbformat": 4,
 "nbformat_minor": 5
}
