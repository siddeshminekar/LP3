{
 "cells": [
  {
   "cell_type": "code",
   "execution_count": 1,
   "id": "7306ba88",
   "metadata": {},
   "outputs": [
    {
     "name": "stdout",
     "output_type": "stream",
     "text": [
      "\n",
      "value and weights:\n",
      "60   10\n",
      "100   20\n",
      "120   30\n",
      "The Knapsac capacity is: 50\n",
      "The maximum profit is: 220\n"
     ]
    }
   ],
   "source": [
    "## 0/1 KNAPSACK USING DYNAMIC PROGRAMMING\n",
    "\n",
    "def knapsack(Capacity,wt,val,n):\n",
    "    \n",
    "    dp=[0 for i in range(Capacity+1)]\n",
    "    #print(\"dp=\",dp)\n",
    "    for i in range(1,n+1):\n",
    "        for w in range(Capacity,0,-1):\n",
    "            if wt[i-1]<=w:\n",
    "                dp[w]= max(dp[w],dp[w-wt[i-1]]+val[i-1])\n",
    "                #print(dp[w],end=\" \")\n",
    "        #print()\n",
    "    return dp[Capacity]\n",
    "    \n",
    "# driver code\n",
    "\n",
    "val=[60,100,120]\n",
    "wt=[10,20,30]\n",
    "Capacity=50\n",
    "\n",
    "n= len(val)\n",
    "print(\"\\nvalue and weights:\")\n",
    "for i in range(n):\n",
    "    print(val[i],\" \",wt[i])\n",
    "print(\"The Knapsac capacity is:\",Capacity)\n",
    "\n",
    "print(\"The maximum profit is:\",knapsack(Capacity,wt,val,n))"
   ]
  },
  {
   "cell_type": "code",
   "execution_count": null,
   "id": "bfed9979",
   "metadata": {},
   "outputs": [],
   "source": []
  }
 ],
 "metadata": {
  "kernelspec": {
   "display_name": "Python 3 (ipykernel)",
   "language": "python",
   "name": "python3"
  },
  "language_info": {
   "codemirror_mode": {
    "name": "ipython",
    "version": 3
   },
   "file_extension": ".py",
   "mimetype": "text/x-python",
   "name": "python",
   "nbconvert_exporter": "python",
   "pygments_lexer": "ipython3",
   "version": "3.9.13"
  }
 },
 "nbformat": 4,
 "nbformat_minor": 5
}
