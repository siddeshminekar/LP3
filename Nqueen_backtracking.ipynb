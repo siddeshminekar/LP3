{
 "cells": [
  {
   "cell_type": "code",
   "execution_count": 1,
   "id": "82dc83f3",
   "metadata": {},
   "outputs": [
    {
     "name": "stdout",
     "output_type": "stream",
     "text": [
      "1 0 0 0 0 0 0 0 \n",
      "0 0 0 0 0 0 1 0 \n",
      "0 1 0 0 0 0 0 0 \n",
      "0 0 0 0 0 1 0 0 \n",
      "0 0 0 0 0 0 0 1 \n",
      "0 0 1 0 0 0 0 0 \n",
      "0 0 0 0 1 0 0 0 \n",
      "0 0 0 1 0 0 0 0 \n"
     ]
    },
    {
     "data": {
      "text/plain": [
       "True"
      ]
     },
     "execution_count": 1,
     "metadata": {},
     "output_type": "execute_result"
    }
   ],
   "source": [
    "global N \n",
    "N=8\n",
    "\n",
    "def printsol(board):\n",
    "    for i in range(N):\n",
    "        for j in range(N):\n",
    "            print(board[i][j],end=' ')\n",
    "        print()\n",
    "    \n",
    "def issafe(board,row,col):\n",
    "    for i in range(col):\n",
    "        if board[row][i]==1:\n",
    "            return False\n",
    "        \n",
    "    for i,j in zip(range(row,-1,-1),\n",
    "                  range(col,-1,-1)):\n",
    "        if board[i][j]==1:\n",
    "            return False\n",
    "        \n",
    "    for i,j in zip(range(row,N,-1),\n",
    "                  range(col,-1,-1)):\n",
    "        if board[i][j]==1:\n",
    "            return False\n",
    "    \n",
    "    return True\n",
    "    \n",
    "    \n",
    "def solvenqutil(board,col):\n",
    "    if col>=N:\n",
    "        return True\n",
    "    for i in range(N):\n",
    "        \n",
    "        if issafe(board,i,col):\n",
    "            board[i][col]=1\n",
    "            \n",
    "            if solvenqutil(board,col+1)==True:\n",
    "                return True\n",
    "            board[i][col]=0\n",
    "    return False\n",
    "    \n",
    "    \n",
    "    \n",
    "    \n",
    "def solvenq():\n",
    "    board=[[0,0,0,0,0,0,0,0],\n",
    "          [0,0,0,0,0,0,0,0],\n",
    "          [0,0,0,0,0,0,0,0],\n",
    "          [0,0,0,0,0,0,0,0],\n",
    "          [0,0,0,0,0,0,0,0],\n",
    "          [0,0,0,0,0,0,0,0],\n",
    "          [0,0,0,0,0,0,0,0],\n",
    "          [0,0,0,0,0,0,0,0]\n",
    "          ]\n",
    "    \n",
    "    if solvenqutil(board,0)==False:\n",
    "        print(\"solution does not exists\")\n",
    "        return False\n",
    "    \n",
    "    printsol(board)\n",
    "    return True\n",
    "  \n",
    "#driver code\n",
    "\n",
    "solvenq()"
   ]
  },
  {
   "cell_type": "code",
   "execution_count": null,
   "id": "4d9f6796",
   "metadata": {},
   "outputs": [],
   "source": []
  }
 ],
 "metadata": {
  "kernelspec": {
   "display_name": "Python 3 (ipykernel)",
   "language": "python",
   "name": "python3"
  },
  "language_info": {
   "codemirror_mode": {
    "name": "ipython",
    "version": 3
   },
   "file_extension": ".py",
   "mimetype": "text/x-python",
   "name": "python",
   "nbconvert_exporter": "python",
   "pygments_lexer": "ipython3",
   "version": "3.9.13"
  }
 },
 "nbformat": 4,
 "nbformat_minor": 5
}
